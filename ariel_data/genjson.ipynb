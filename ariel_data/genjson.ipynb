{
 "cells": [
  {
   "cell_type": "code",
   "execution_count": 2,
   "id": "644d0c94",
   "metadata": {},
   "outputs": [
    {
     "data": {
      "text/plain": [
       "'/Users/arielcheyanne/collab proj with isaiah/Reddit-Analysis/sentiment_dataset.json'"
      ]
     },
     "execution_count": 2,
     "metadata": {},
     "output_type": "execute_result"
    }
   ],
   "source": [
    "import json\n",
    "import random\n",
    "\n",
    "# sample titles and bodies for variety\n",
    "titles = [\n",
    "    \"How did you first make money online?\",\n",
    "    \"Is passive income really possible in 2025?\",\n",
    "    \"Anyone tried dropshipping recently?\",\n",
    "    \"Blogging vs YouTube for income\",\n",
    "    \"Best way to save money fast\",\n",
    "    \"Do you think crypto is still worth it?\",\n",
    "    \"How much can you earn from affiliate marketing?\",\n",
    "    \"What are your favorite side hustles?\",\n",
    "    \"Is freelancing a good long-term option?\",\n",
    "    \"Can you really make money with surveys?\"\n",
    "]\n",
    "\n",
    "positive_bodies = [\n",
    "    \"This changed my life!\",\n",
    "    \"Upwork has been great for me.\",\n",
    "    \"Blogging gave me amazing results.\",\n",
    "    \"YouTube has been such a rewarding experience.\",\n",
    "    \"Passive income is totally possible!\",\n",
    "    \"I love this method, it's been working wonders.\",\n",
    "    \"Freelancing is giving me the freedom I wanted.\",\n",
    "    \"Affiliate marketing helped me earn a stable income.\",\n",
    "    \"I'm really satisfied with this side hustle.\",\n",
    "    \"This strategy boosted my savings a lot.\"\n",
    "]\n",
    "\n",
    "neutral_bodies = [\n",
    "    \"There are many factors to consider.\",\n",
    "    \"I think it depends on your situation.\",\n",
    "    \"It can work, but it's not guaranteed.\",\n",
    "    \"Results may vary for different people.\",\n",
    "    \"Sometimes it works, sometimes it doesn't.\",\n",
    "    \"This is an interesting topic.\",\n",
    "    \"Hard to say without more information.\",\n",
    "    \"It depends on how much effort you put in.\",\n",
    "    \"It's neither good nor bad, just an option.\",\n",
    "    \"I've seen mixed results about this.\"\n",
    "]\n",
    "\n",
    "negative_bodies = [\n",
    "    \"I regret investing in crypto.\",\n",
    "    \"Dropshipping was a complete failure for me.\",\n",
    "    \"This is just a scam.\",\n",
    "    \"I lost money trying this method.\",\n",
    "    \"Freelancing burned me out.\",\n",
    "    \"Passive income feels like a lie.\",\n",
    "    \"Surveys wasted my time.\",\n",
    "    \"Blogging didn't earn me anything.\",\n",
    "    \"I feel scammed by this so-called hustle.\",\n",
    "    \"Not worth the effort at all.\"\n",
    "]\n",
    "\n",
    "# generate 100 posts\n",
    "posts = []\n",
    "for i in range(1, 101):\n",
    "    sentiment = random.choice([-1, 0, 1])\n",
    "    if sentiment == 1:\n",
    "        body = random.choice(positive_bodies)\n",
    "    elif sentiment == 0:\n",
    "        body = random.choice(neutral_bodies)\n",
    "    else:\n",
    "        body = random.choice(negative_bodies)\n",
    "    \n",
    "    post = {\n",
    "        \"id\": f\"post_{i}\",\n",
    "        \"title\": random.choice(titles),\n",
    "        \"body\": body,\n",
    "        \"sentiment\": sentiment\n",
    "    }\n",
    "    posts.append(post)\n",
    "\n",
    "# save to file\n",
    "file_path = \"/Users/arielcheyanne/collab proj with isaiah/Reddit-Analysis/sentiment_dataset.json\"\n",
    "with open(file_path, \"w\") as f:\n",
    "    json.dump(posts, f, indent=2)\n",
    "\n",
    "file_path\n"
   ]
  }
 ],
 "metadata": {
  "kernelspec": {
   "display_name": "Python (arielenv)",
   "language": "python",
   "name": "arielenv"
  },
  "language_info": {
   "codemirror_mode": {
    "name": "ipython",
    "version": 3
   },
   "file_extension": ".py",
   "mimetype": "text/x-python",
   "name": "python",
   "nbconvert_exporter": "python",
   "pygments_lexer": "ipython3",
   "version": "3.13.7"
  }
 },
 "nbformat": 4,
 "nbformat_minor": 5
}
