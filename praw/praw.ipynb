{
 "cells": [
  {
   "cell_type": "code",
   "execution_count": 1,
   "id": "26f94be4",
   "metadata": {},
   "outputs": [
    {
     "name": "stdout",
     "output_type": "stream",
     "text": [
      "/usr/local/bin/python3\n"
     ]
    }
   ],
   "source": [
    "import sys\n",
    "print(sys.executable)"
   ]
  },
  {
   "cell_type": "code",
   "execution_count": 2,
   "id": "699e48e5",
   "metadata": {},
   "outputs": [],
   "source": [
    "import praw\n",
    "import pandas as pd"
   ]
  },
  {
   "cell_type": "code",
   "execution_count": 3,
   "id": "86270c53",
   "metadata": {},
   "outputs": [],
   "source": [
    "\n",
    "reddit = praw.Reddit(\n",
    "    client_id=\"IoCFWQa2kmHpGX3XzxXghQ\",\n",
    "    client_secret=\"kQd6_QatR4aBcc9KSfNoS9081YEg9Q\",\n",
    "    password=\"arielcheyanne12\",\n",
    "    user_agent=\"my script by u/okcmputr\",\n",
    "    username=\"okcmputr\",\n",
    ")\n",
    "\n",
    "# subreddit = reddit.subreddit(\"passive_income\")"
   ]
  },
  {
   "cell_type": "code",
   "execution_count": 4,
   "id": "0063a52a",
   "metadata": {},
   "outputs": [
    {
     "name": "stdout",
     "output_type": "stream",
     "text": [
      "okcmputr\n"
     ]
    }
   ],
   "source": [
    "print(reddit.user.me())"
   ]
  },
  {
   "cell_type": "code",
   "execution_count": null,
   "id": "3800e27b",
   "metadata": {},
   "outputs": [],
   "source": [
    "#choose subreddit\n",
    "subreddit_name = \"passive_income\"  \n",
    "subreddit = reddit.subreddit(subreddit_name)\n",
    "\n",
    "# Fetch the 500 most recent posts\n",
    "posts_data = []\n",
    "\n",
    "for submission in subreddit.new(limit=500):\n",
    "    submission.comments.replace_more(limit=0)  #get only top-level comments\n",
    "    comments = [comment.body for comment in submission.comments]\n",
    "\n",
    "    posts_data.append({\n",
    "        \"id\": submission.id,\n",
    "        \"title\": submission.title,\n",
    "        \"body\": submission.selftext,\n",
    "        \"author\": str(submission.author),\n",
    "        \"num_comments\": submission.num_comments,\n",
    "        \"comments\": comments\n",
    "    })"
   ]
  },
  {
   "cell_type": "code",
   "execution_count": null,
   "id": "edde88a6",
   "metadata": {},
   "outputs": [],
   "source": [
    "#convert to dataframe\n",
    "df = pd.DataFrame(posts_data)\n",
    "\n",
    "#join comments into a single string per post\n",
    "df[\"all_comments\"] = df[\"comments\"].apply(lambda x: \" \".join(x))"
   ]
  },
  {
   "cell_type": "code",
   "execution_count": 10,
   "id": "5d7abd13",
   "metadata": {},
   "outputs": [
    {
     "data": {
      "text/html": [
       "<div>\n",
       "<style scoped>\n",
       "    .dataframe tbody tr th:only-of-type {\n",
       "        vertical-align: middle;\n",
       "    }\n",
       "\n",
       "    .dataframe tbody tr th {\n",
       "        vertical-align: top;\n",
       "    }\n",
       "\n",
       "    .dataframe thead th {\n",
       "        text-align: right;\n",
       "    }\n",
       "</style>\n",
       "<table border=\"1\" class=\"dataframe\">\n",
       "  <thead>\n",
       "    <tr style=\"text-align: right;\">\n",
       "      <th></th>\n",
       "      <th>id</th>\n",
       "      <th>title</th>\n",
       "      <th>body</th>\n",
       "      <th>author</th>\n",
       "      <th>num_comments</th>\n",
       "      <th>comments</th>\n",
       "      <th>all_comments</th>\n",
       "    </tr>\n",
       "  </thead>\n",
       "  <tbody>\n",
       "    <tr>\n",
       "      <th>0</th>\n",
       "      <td>1nk4tra</td>\n",
       "      <td>Looking for TikTok Creators in US/Canada ($800...</td>\n",
       "      <td>I’m putting together a small team for an AI Ti...</td>\n",
       "      <td>Medium-Detail1319</td>\n",
       "      <td>1</td>\n",
       "      <td>[Check out the [Community Highlights](https://...</td>\n",
       "      <td>Check out the [Community Highlights](https://w...</td>\n",
       "    </tr>\n",
       "    <tr>\n",
       "      <th>1</th>\n",
       "      <td>1nk4lax</td>\n",
       "      <td>Did anyone get automatically opted out of Goog...</td>\n",
       "      <td>I just received this email today. I never want...</td>\n",
       "      <td>SapaIncaAtahualpa</td>\n",
       "      <td>1</td>\n",
       "      <td>[Check out the [Community Highlights](https://...</td>\n",
       "      <td>Check out the [Community Highlights](https://w...</td>\n",
       "    </tr>\n",
       "    <tr>\n",
       "      <th>2</th>\n",
       "      <td>1nk4b0p</td>\n",
       "      <td>I want to post my coupon code on a website</td>\n",
       "      <td>Hey everyone, I have a coupon code for selling...</td>\n",
       "      <td>Kindly-Rabbit-8682</td>\n",
       "      <td>1</td>\n",
       "      <td>[Check out the [Community Highlights](https://...</td>\n",
       "      <td>Check out the [Community Highlights](https://w...</td>\n",
       "    </tr>\n",
       "    <tr>\n",
       "      <th>3</th>\n",
       "      <td>1nk3jzp</td>\n",
       "      <td>I've created courses that have generated over ...</td>\n",
       "      <td>Hey guys, I'll keep this short and sweet, and ...</td>\n",
       "      <td>NoFirefighter8227</td>\n",
       "      <td>1</td>\n",
       "      <td>[Check out the [Community Highlights](https://...</td>\n",
       "      <td>Check out the [Community Highlights](https://w...</td>\n",
       "    </tr>\n",
       "    <tr>\n",
       "      <th>4</th>\n",
       "      <td>1nk1nlw</td>\n",
       "      <td>Sign up and earn</td>\n",
       "      <td>Just wanna share an extra income(one time) wor...</td>\n",
       "      <td>Hopeful_Inspector_45</td>\n",
       "      <td>3</td>\n",
       "      <td>[Check out the [Community Highlights](https://...</td>\n",
       "      <td>Check out the [Community Highlights](https://w...</td>\n",
       "    </tr>\n",
       "  </tbody>\n",
       "</table>\n",
       "</div>"
      ],
      "text/plain": [
       "        id                                              title  \\\n",
       "0  1nk4tra  Looking for TikTok Creators in US/Canada ($800...   \n",
       "1  1nk4lax  Did anyone get automatically opted out of Goog...   \n",
       "2  1nk4b0p         I want to post my coupon code on a website   \n",
       "3  1nk3jzp  I've created courses that have generated over ...   \n",
       "4  1nk1nlw                                   Sign up and earn   \n",
       "\n",
       "                                                body                author  \\\n",
       "0  I’m putting together a small team for an AI Ti...     Medium-Detail1319   \n",
       "1  I just received this email today. I never want...     SapaIncaAtahualpa   \n",
       "2  Hey everyone, I have a coupon code for selling...    Kindly-Rabbit-8682   \n",
       "3  Hey guys, I'll keep this short and sweet, and ...     NoFirefighter8227   \n",
       "4  Just wanna share an extra income(one time) wor...  Hopeful_Inspector_45   \n",
       "\n",
       "   num_comments                                           comments  \\\n",
       "0             1  [Check out the [Community Highlights](https://...   \n",
       "1             1  [Check out the [Community Highlights](https://...   \n",
       "2             1  [Check out the [Community Highlights](https://...   \n",
       "3             1  [Check out the [Community Highlights](https://...   \n",
       "4             3  [Check out the [Community Highlights](https://...   \n",
       "\n",
       "                                        all_comments  \n",
       "0  Check out the [Community Highlights](https://w...  \n",
       "1  Check out the [Community Highlights](https://w...  \n",
       "2  Check out the [Community Highlights](https://w...  \n",
       "3  Check out the [Community Highlights](https://w...  \n",
       "4  Check out the [Community Highlights](https://w...  "
      ]
     },
     "execution_count": 10,
     "metadata": {},
     "output_type": "execute_result"
    }
   ],
   "source": [
    "df.head()"
   ]
  },
  {
   "cell_type": "code",
   "execution_count": null,
   "id": "b577556b",
   "metadata": {},
   "outputs": [
    {
     "name": "stdout",
     "output_type": "stream",
     "text": [
      "        id                                              title  \\\n",
      "0  1nk4tra  Looking for TikTok Creators in US/Canada ($800...   \n",
      "1  1nk4lax  Did anyone get automatically opted out of Goog...   \n",
      "2  1nk4b0p         I want to post my coupon code on a website   \n",
      "3  1nk3jzp  I've created courses that have generated over ...   \n",
      "4  1nk1nlw                                   Sign up and earn   \n",
      "\n",
      "                                                body                author  \\\n",
      "0  I’m putting together a small team for an AI Ti...     Medium-Detail1319   \n",
      "1  I just received this email today. I never want...     SapaIncaAtahualpa   \n",
      "2  Hey everyone, I have a coupon code for selling...    Kindly-Rabbit-8682   \n",
      "3  Hey guys, I'll keep this short and sweet, and ...     NoFirefighter8227   \n",
      "4  Just wanna share an extra income(one time) wor...  Hopeful_Inspector_45   \n",
      "\n",
      "   num_comments                                           comments  \\\n",
      "0             1  [Check out the [Community Highlights](https://...   \n",
      "1             1  [Check out the [Community Highlights](https://...   \n",
      "2             1  [Check out the [Community Highlights](https://...   \n",
      "3             1  [Check out the [Community Highlights](https://...   \n",
      "4             3  [Check out the [Community Highlights](https://...   \n",
      "\n",
      "                                        all_comments  \n",
      "0  Check out the [Community Highlights](https://w...  \n",
      "1  Check out the [Community Highlights](https://w...  \n",
      "2  Check out the [Community Highlights](https://w...  \n",
      "3  Check out the [Community Highlights](https://w...  \n",
      "4  Check out the [Community Highlights](https://w...  \n"
     ]
    }
   ],
   "source": [
    "# Save to CSV\n",
    "df.to_csv(\"subreddit_posts_with_comments.csv\", index=False)\n",
    "\n",
    "print(df.head())"
   ]
  }
 ],
 "metadata": {
  "kernelspec": {
   "display_name": "Python 3",
   "language": "python",
   "name": "python3"
  },
  "language_info": {
   "codemirror_mode": {
    "name": "ipython",
    "version": 3
   },
   "file_extension": ".py",
   "mimetype": "text/x-python",
   "name": "python",
   "nbconvert_exporter": "python",
   "pygments_lexer": "ipython3",
   "version": "3.13.7"
  }
 },
 "nbformat": 4,
 "nbformat_minor": 5
}
